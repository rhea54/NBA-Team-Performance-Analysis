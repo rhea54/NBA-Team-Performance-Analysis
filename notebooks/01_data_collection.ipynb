{
 "cells": [
  {
   "cell_type": "code",
   "execution_count": 1,
   "id": "27dfcefc",
   "metadata": {},
   "outputs": [],
   "source": [
    "import pandas as pd\n",
    "from nba_api.stats.endpoints import leaguedashteamstats"
   ]
  },
  {
   "cell_type": "code",
   "execution_count": 2,
   "id": "5098b618",
   "metadata": {},
   "outputs": [],
   "source": [
    "def fetch_nba_data(seasons):\n",
    "    \"\"\"\n",
    "    Fetch NBA data for the given seasons from the NBA API.\n",
    "\n",
    "    Parameters:\n",
    "    seasons (list): List of seasons to fetch data for.\n",
    "\n",
    "    Returns:\n",
    "    pd.DataFrame: Concatenated DataFrame of all seasons.\n",
    "    \"\"\"\n",
    "    league_stats_df_list = []\n",
    "    for season in seasons:\n",
    "        league_stats = leaguedashteamstats.LeagueDashTeamStats(season=season, measure_type_detailed_defense='Base')\n",
    "        league_stats_df = league_stats.get_data_frames()[0]\n",
    "        league_stats_df['SEASON'] = season  # Add season information\n",
    "        league_stats_df_list.append(league_stats_df)\n",
    "    return pd.concat(league_stats_df_list, ignore_index=True)"
   ]
  },
  {
   "cell_type": "code",
   "execution_count": 3,
   "id": "d87c01df",
   "metadata": {},
   "outputs": [],
   "source": [
    "# Define the seasons to fetch data for\n",
    "seasons = ['2022-23', '2021-22', '2020-21', '2019-20', '2018-19', '2017-18', '2016-17', '2015-16', '2014-15']"
   ]
  },
  {
   "cell_type": "code",
   "execution_count": 5,
   "id": "36bc8988",
   "metadata": {},
   "outputs": [],
   "source": [
    "# Fetch and prepare the data\n",
    "raw_data = fetch_nba_data(seasons)\n",
    "\n",
    "# Save the raw data\n",
    "#raw_data.to_csv('/data/raw/raw_data.csv', index=False)\n",
    "#print(\"Data collection completed. Raw data saved to data/raw/raw_data.csv\")"
   ]
  }
 ],
 "metadata": {
  "kernelspec": {
   "display_name": "Python 3 (ipykernel)",
   "language": "python",
   "name": "python3"
  },
  "language_info": {
   "codemirror_mode": {
    "name": "ipython",
    "version": 3
   },
   "file_extension": ".py",
   "mimetype": "text/x-python",
   "name": "python",
   "nbconvert_exporter": "python",
   "pygments_lexer": "ipython3",
   "version": "3.11.8"
  }
 },
 "nbformat": 4,
 "nbformat_minor": 5
}
