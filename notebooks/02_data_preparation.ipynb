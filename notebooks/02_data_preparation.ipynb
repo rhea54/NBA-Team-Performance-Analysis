{
 "cells": [
  {
   "cell_type": "code",
   "execution_count": null,
   "id": "3a5b1037",
   "metadata": {},
   "outputs": [],
   "source": [
    "import pandas as pd"
   ]
  },
  {
   "cell_type": "code",
   "execution_count": null,
   "id": "3daa9a8b",
   "metadata": {},
   "outputs": [],
   "source": [
    "def prepare_data(df):\n",
    "    \"\"\"\n",
    "    Prepare the NBA data for analysis by selecting relevant columns and creating new features.\n",
    "\n",
    "    Parameters:\n",
    "    df (pd.DataFrame): DataFrame containing raw NBA data.\n",
    "\n",
    "    Returns:\n",
    "    pd.DataFrame: DataFrame with relevant features and dummy variables.\n",
    "    \"\"\"\n",
    "    relevant_columns = ['TEAM_ID', 'SEASON', 'FG3A', 'FG3M', 'FG3_PCT', 'FG_PCT', 'W', 'FGA', 'FGM', 'FTA', 'FTM', \n",
    "                        'REB', 'AST', 'TOV', 'DREB', 'BLK', 'STL']\n",
    "    df = df[relevant_columns].copy()\n",
    "\n",
    "    # Convert percentages to human-readable format\n",
    "    df['FG3_PCT'] = df['FG3_PCT'] * 100\n",
    "    df['FG_PCT'] = df['FG_PCT'] * 100\n",
    "\n",
    "    # Calculate 2-point percentage (2P_PCT)\n",
    "    df['2P_PCT'] = (df['FGM'] - df['FG3M']) / (df['FGA'] - df['FG3A']) * 100\n",
    "\n",
    "    # Create dummy variables for teams and seasons\n",
    "    df = pd.get_dummies(df, columns=['TEAM_ID', 'SEASON'], drop_first=True)\n",
    "\n",
    "    return df"
   ]
  },
  {
   "cell_type": "code",
   "execution_count": null,
   "id": "5791526f",
   "metadata": {},
   "outputs": [],
   "source": [
    "# Load raw data\n",
    "raw_data = pd.read_csv('../data/raw/raw_data.csv')\n",
    "\n",
    "# Prepare the data\n",
    "prepared_data = prepare_data(raw_data)\n",
    "\n",
    "# Save the prepared data\n",
    "#prepared_data.to_csv('../data/processed/prepared_data.csv', index=False)\n",
    "#print(\"Data preparation completed. Prepared data saved to data/processed/prepared_data.csv\")"
   ]
  }
 ],
 "metadata": {
  "kernelspec": {
   "display_name": "Python 3 (ipykernel)",
   "language": "python",
   "name": "python3"
  },
  "language_info": {
   "codemirror_mode": {
    "name": "ipython",
    "version": 3
   },
   "file_extension": ".py",
   "mimetype": "text/x-python",
   "name": "python",
   "nbconvert_exporter": "python",
   "pygments_lexer": "ipython3",
   "version": "3.11.8"
  }
 },
 "nbformat": 4,
 "nbformat_minor": 5
}
